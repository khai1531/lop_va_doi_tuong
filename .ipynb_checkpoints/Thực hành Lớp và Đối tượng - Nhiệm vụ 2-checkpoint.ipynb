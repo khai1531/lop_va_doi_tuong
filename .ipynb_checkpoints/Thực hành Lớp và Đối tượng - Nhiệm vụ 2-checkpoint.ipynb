{
 "cells": [
  {
   "cell_type": "code",
   "execution_count": null,
   "id": "1b7705b3",
   "metadata": {},
   "outputs": [],
   "source": [
    "\"\"\"\n",
    "Viết class NhanVien gồm các thuộc tính:\n",
    "+ Tên\n",
    "+ Tuổi\n",
    "+ Địa chỉ\n",
    "+ Tiền lương\n",
    "+ Tổng số giờ làm\n",
    "\n",
    "Và các phương thức:\n",
    "- Phương thức __init__()\n",
    "- print_info() : In ra tất cả các thông tin của nhân viên\n",
    "- tinh_thuong(): Tính toán và trả về số tiền thưởng của nhân viên theo công thức sau:\n",
    "Nếu tổng số giờ làm của nhân viên >=200 thì thưởng = lương * 20%\n",
    "Nếu tổng số giờ làm của nhân viên <200 và >=100 thì thưởng = lương * 10%\n",
    "Nếu tổng số giờ làm của nhân viên <100 thì thưởng = 0\n",
    "\"\"\""
   ]
  },
  {
   "cell_type": "code",
   "execution_count": 67,
   "id": "3cf0f41d",
   "metadata": {},
   "outputs": [],
   "source": [
    "class NhanVien():\n",
    "    def __init__(self, ten, tuoi, dia_chi, tien_luong, tong_so_gio_lam):\n",
    "        self.ten = ten\n",
    "        self.tuoi = tuoi\n",
    "        self.dia_chi = dia_chi\n",
    "        self.tien_luong = tien_luong\n",
    "        self.tong_so_gio_lam = tong_so_gio_lam\n",
    "    def info(self):\n",
    "        print (f\"+ Tên: {self.ten}\")\n",
    "        print (f\"+ Tuổi: {self.tuoi}\")\n",
    "        print (f\"+ Địa chỉ: {self.dia_chi}\")\n",
    "        print (f\"+ Tiền lương: {self.tien_luong}\")\n",
    "        print (f\"+ Tổng số giờ làm: {self.tong_so_gio_lam}\")\n",
    "    def tinh_thuong(self):\n",
    "        if self.tong_so_gio_lam >= 200:\n",
    "            tien_thuong = self.tien_luong * 20/100\n",
    "        elif 200> self.tong_so_gio_lam >=100:\n",
    "            tien_thuong = self.tien_luong * 10/100\n",
    "        else:\n",
    "            tien_thuong = 0\n",
    "        return f\"+Tiền thưởng của nhân viên là : {tien_thuong}\" "
   ]
  },
  {
   "cell_type": "code",
   "execution_count": 69,
   "id": "3c77e2e1-d510-4dfd-98a2-697f95d44983",
   "metadata": {},
   "outputs": [
    {
     "name": "stdout",
     "output_type": "stream",
     "text": [
      "+ Tên: Phạm Quang Khải\n",
      "+ Tuổi: 20\n",
      "+ Địa chỉ: Đà Nẵng\n",
      "+ Tiền lương: 100000000\n",
      "+ Tổng số giờ làm: 300\n"
     ]
    },
    {
     "data": {
      "text/plain": [
       "'+Tiền thưởng của nhân viên là : 20000000.0'"
      ]
     },
     "execution_count": 69,
     "metadata": {},
     "output_type": "execute_result"
    }
   ],
   "source": [
    "nhan_vien_1 = NhanVien(\"Phạm Quang Khải\", 20, \"Đà Nẵng\", 100000000, 300)\n",
    "nhan_vien_1.info()\n",
    "nhan_vien_1.tinh_thuong()   "
   ]
  },
  {
   "cell_type": "code",
   "execution_count": 70,
   "id": "117b71b8-6e04-4d77-a6f1-9471d8227b92",
   "metadata": {},
   "outputs": [
    {
     "name": "stdout",
     "output_type": "stream",
     "text": [
      "+ Tên: Phạm Quang \n",
      "+ Tuổi: 100\n",
      "+ Địa chỉ: Hà Nội\n",
      "+ Tiền lương: 100000000\n",
      "+ Tổng số giờ làm: 100\n"
     ]
    },
    {
     "data": {
      "text/plain": [
       "'+Tiền thưởng của nhân viên là : 10000000.0'"
      ]
     },
     "execution_count": 70,
     "metadata": {},
     "output_type": "execute_result"
    }
   ],
   "source": [
    "nhan_vien_2 = NhanVien(\"Phạm Quang \", 100, \"Hà Nội\", 100000000, 100)\n",
    "nhan_vien_2.info()\n",
    "nhan_vien_2.tinh_thuong()   "
   ]
  },
  {
   "cell_type": "code",
   "execution_count": 71,
   "id": "6d75c911-c1f9-4133-8241-3131f50cf1b6",
   "metadata": {},
   "outputs": [
    {
     "name": "stdout",
     "output_type": "stream",
     "text": [
      "+ Tên: Phạm\n",
      "+ Tuổi: 46\n",
      "+ Địa chỉ: Đà Nẵng\n",
      "+ Tiền lương: 100000000\n",
      "+ Tổng số giờ làm: 99\n"
     ]
    },
    {
     "data": {
      "text/plain": [
       "'+Tiền thưởng của nhân viên là : 0'"
      ]
     },
     "execution_count": 71,
     "metadata": {},
     "output_type": "execute_result"
    }
   ],
   "source": [
    "nhan_vien_3 = NhanVien(\"Phạm\", 46, \"Đà Nẵng\", 100000000, 99)\n",
    "nhan_vien_3.info()\n",
    "nhan_vien_3.tinh_thuong()   "
   ]
  }
 ],
 "metadata": {
  "kernelspec": {
   "display_name": "Python 3 (ipykernel)",
   "language": "python",
   "name": "python3"
  },
  "language_info": {
   "codemirror_mode": {
    "name": "ipython",
    "version": 3
   },
   "file_extension": ".py",
   "mimetype": "text/x-python",
   "name": "python",
   "nbconvert_exporter": "python",
   "pygments_lexer": "ipython3",
   "version": "3.11.7"
  }
 },
 "nbformat": 4,
 "nbformat_minor": 5
}

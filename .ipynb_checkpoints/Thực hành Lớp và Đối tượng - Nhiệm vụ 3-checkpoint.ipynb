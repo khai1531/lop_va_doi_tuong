{
 "cells": [
  {
   "cell_type": "code",
   "execution_count": null,
   "id": "a42fa0c7",
   "metadata": {},
   "outputs": [],
   "source": [
    "\"\"\"\n",
    "Tạo class có tên Equation gồm có các thuộc tính và phương thức sau:\n",
    "+ Thuộc tính: number1, number2\n",
    "+ Phương thức:\n",
    "- Phương thức tạo __init()__\n",
    "- print_info(): dùng để hiển thị number1, number2\n",
    "- add(): dùng để cộng number1, number2\n",
    "- subtract(): trừ number1, number2\n",
    "- multiply(): dùng để nhân number1, number2\n",
    "- divide(): dùng để chia number1, number2.\n",
    "\n",
    "Sau khi tạo class, khởi tạo một object Equation và in ra kết quả tính toán từ các hàm thực hiện phép tính\n",
    "\"\"\""
   ]
  },
  {
   "cell_type": "code",
   "execution_count": 27,
   "id": "a129ab2a-dcc8-46d4-bc98-c47f7e76a932",
   "metadata": {},
   "outputs": [
    {
     "name": "stdout",
     "output_type": "stream",
     "text": [
      "Số thứ nhất: 5\n",
      "Số thứ hai: 3\n",
      "Kết quả cộng: 8\n",
      "Kết quả trừ: 2\n",
      "Kết quả nhân: 15\n",
      "Kết quả chia: 1.6666666666666667\n"
     ]
    }
   ],
   "source": [
    "class Equation:\n",
    "    def __init__(self, number1, number2):\n",
    "        self.number1 = number1\n",
    "        self.number2 = number2\n",
    "    def print_info(self):\n",
    "        print(f\"Số thứ nhất: {self.number1}\")\n",
    "        print(f\"Số thứ hai: {self.number2}\")\n",
    "    def add(self):\n",
    "        return self.number1 + self.number2\n",
    "    def subtract(self):\n",
    "        return self.number1 - self.number2\n",
    "    def multiply(self):\n",
    "        return self.number1 * self.number2\n",
    "    def divide(self):\n",
    "        if self.number2 == 0:\n",
    "          return \"Lỗi chia cho 0!\"\n",
    "        else:\n",
    "          return self.number1 / self.number2\n",
    "equation = Equation(5, 3)\n",
    "equation.print_info()\n",
    "print(f\"Kết quả cộng: {equation.add()}\")\n",
    "print(f\"Kết quả trừ: {equation.subtract()}\")\n",
    "print(f\"Kết quả nhân: {equation.multiply()}\")\n",
    "print(f\"Kết quả chia: {equation.divide()}\")\n"
   ]
  }
 ],
 "metadata": {
  "kernelspec": {
   "display_name": "Python 3 (ipykernel)",
   "language": "python",
   "name": "python3"
  },
  "language_info": {
   "codemirror_mode": {
    "name": "ipython",
    "version": 3
   },
   "file_extension": ".py",
   "mimetype": "text/x-python",
   "name": "python",
   "nbconvert_exporter": "python",
   "pygments_lexer": "ipython3",
   "version": "3.11.7"
  }
 },
 "nbformat": 4,
 "nbformat_minor": 5
}
